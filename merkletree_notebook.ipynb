{
 "cells": [
  {
   "cell_type": "code",
   "execution_count": 32,
   "id": "f6ecd8c7-c7ac-4d2c-b2be-685a3e72acfb",
   "metadata": {},
   "outputs": [],
   "source": [
    "import pandas as pd"
   ]
  },
  {
   "cell_type": "code",
   "execution_count": 38,
   "id": "c629dee4-4ed8-4135-9d38-b45c489587d7",
   "metadata": {},
   "outputs": [
    {
     "name": "stdout",
     "output_type": "stream",
     "text": [
      "Datasets differ.\n",
      "Row ['Alice', 25] does not exist in Dataset A.\n"
     ]
    }
   ],
   "source": [
    "import hashlib\n",
    "from pymerkle import InmemoryTree, verify_inclusion\n",
    "\n",
    "def hash_row(row_values):\n",
    "    \"\"\"Hash a row by concatenating its column values.\"\"\"\n",
    "    concatenated = ''.join(map(str, row_values))\n",
    "    return hashlib.sha256(concatenated.encode()).digest()\n",
    "\n",
    "# Step 1: Create hashed rows for Dataset A and Dataset B\n",
    "dataset_a = [[\"Alice\", 25], [\"Bob\", 30], [\"Charlie\", 35]]\n",
    "dataset_b = [[\"Alice\", 25], [\"Bob\", 30], [\"Charlie\", 40]]\n",
    "\n",
    "hashed_a = [hash_row(row) for row in dataset_a]\n",
    "hashed_b = [hash_row(row) for row in dataset_b]\n",
    "\n",
    "# Step 2: Build Merkle Trees using InmemoryTree\n",
    "tree_a = InmemoryTree(algorithm=\"sha256\")\n",
    "tree_b = InmemoryTree(algorithm=\"sha256\")\n",
    "\n",
    "# Append hashed rows as entries into the trees\n",
    "for hash_value in hashed_a:\n",
    "    tree_a.append_entry(hash_value)\n",
    "\n",
    "for hash_value in hashed_b:\n",
    "    tree_b.append_entry(hash_value)\n",
    "\n",
    "# Step 3: Compare Merkle Roots\n",
    "root_a = tree_a.get_state()\n",
    "root_b = tree_b.get_state()\n",
    "\n",
    "if root_a == root_b:\n",
    "    print(\"Datasets are identical for the selected columns and rows.\")\n",
    "else:\n",
    "    print(\"Datasets differ.\")\n",
    "\n",
    "# Step 4: Verify specific shared rows\n",
    "specific_row = [\"Alice\", 25]\n",
    "specific_hash = hash_row(specific_row)\n",
    "\n",
    "# Check inclusion in Tree A\n",
    "leaf_index = None\n",
    "for i in range(tree_a.get_size()):\n",
    "    if tree_a.get_leaf(i+1) == specific_hash:\n",
    "        leaf_index = i+1\n",
    "        break\n",
    "\n",
    "if leaf_index is not None:\n",
    "    proof = tree_a.prove_inclusion(leaf_index, tree_a.get_size())\n",
    "    if verify_inclusion(specific_hash, root_a, proof):\n",
    "        print(f\"Row {specific_row} exists in Dataset A.\")\n",
    "    else:\n",
    "        print(f\"Row {specific_row} does not exist in Dataset A.\")\n",
    "else:\n",
    "    print(f\"Row {specific_row} does not exist in Dataset A.\")\n"
   ]
  },
  {
   "cell_type": "code",
   "execution_count": 41,
   "id": "40b17f17-fb05-4b22-862c-3a580c4d124f",
   "metadata": {},
   "outputs": [
    {
     "name": "stdout",
     "output_type": "stream",
     "text": [
      "Datasets differ.\n",
      "\n",
      "Tree A Leaves:\n",
      "Leaf 1: b'\\x13\\xed\\xfc\\xec\\xb7\\x16\\x96\\xdeU#G\\xe4\\x00\\xb7}\\x82\\x03p\\xeb\\x1c\\xe8z \\xfd\\x89\\x9cV~M\\xbb\\xdd\\xd7'\n",
      "Leaf 2: b'\\xe4\\xc3\\xa7\\xe8\\xbe\\x99Ec\\xfc\\x1b\\x94\\xce\\x8aAL\\xadZJ\\x94\\xda\\xc4c\\xce\\x13\\x86\\xe1i^\\x1f\\x97\\xf0\\xb2'\n",
      "Leaf 3: b'\\xe2i3Z(\\xfc\\xda\\xddc\\xa9\\xd4\\x9exke\\xc9\\x90\\x0f\\x1dV`\\xc3\\xbb\\xb9\\x0bB\\xfe\\xd5\\r<`\\x0b'\n",
      "Row ['Alice', 25] does not exist in Dataset A.\n"
     ]
    }
   ],
   "source": [
    "import hashlib\n",
    "from pymerkle import InmemoryTree, verify_inclusion\n",
    "\n",
    "def hash_row(row_values):\n",
    "    \"\"\"Hash a row by concatenating its column values.\"\"\"\n",
    "    concatenated = ''.join(map(str, row_values))\n",
    "    return hashlib.sha256(concatenated.encode()).digest()\n",
    "\n",
    "# Step 1: Create hashed rows for Dataset A and Dataset B\n",
    "dataset_a = [[\"Alice\", 25], [\"Bob\", 30], [\"Charlie\", 35]]\n",
    "dataset_b = [[\"Alice\", 25], [\"Bob\", 30], [\"Charlie\", 40]]\n",
    "\n",
    "hashed_a = [hash_row(row) for row in dataset_a]\n",
    "hashed_b = [hash_row(row) for row in dataset_b]\n",
    "\n",
    "# Step 2: Build Merkle Trees using InmemoryTree\n",
    "tree_a = InmemoryTree(algorithm=\"sha256\")\n",
    "tree_b = InmemoryTree(algorithm=\"sha256\")\n",
    "\n",
    "# Append hashed rows as entries into the trees\n",
    "for hash_value in hashed_a:\n",
    "    tree_a.append_entry(hash_value)\n",
    "\n",
    "for hash_value in hashed_b:\n",
    "    tree_b.append_entry(hash_value)\n",
    "\n",
    "# Step 3: Compare Merkle Roots\n",
    "root_a = tree_a.get_state()\n",
    "root_b = tree_b.get_state()\n",
    "\n",
    "if root_a == root_b:\n",
    "    print(\"Datasets are identical for the selected columns and rows.\")\n",
    "else:\n",
    "    print(\"Datasets differ.\")\n",
    "\n",
    "# Step 4: Verify specific shared rows\n",
    "specific_row = [\"Alice\", 25]\n",
    "specific_hash = hash_row(specific_row)\n",
    "\n",
    "# Debug: Display leaves in tree A for verification\n",
    "print(\"\\nTree A Leaves:\")\n",
    "for i in range(1, tree_a.get_size() + 1):\n",
    "    print(f\"Leaf {i}: {tree_a.get_leaf(i)}\")\n",
    "\n",
    "# Check inclusion in Tree A\n",
    "leaf_index = None\n",
    "for i in range(tree_a.get_size()):\n",
    "    # Retrieve the hash directly from the tree and compare\n",
    "    if tree_a.get_leaf(i + 1) == specific_hash:\n",
    "        leaf_index = i + 1\n",
    "        break\n",
    "\n",
    "if leaf_index is not None:\n",
    "    proof = tree_a.prove_inclusion(leaf_index, tree_a.get_size())\n",
    "    if verify_inclusion(specific_hash, root_a, proof):\n",
    "        print(f\"Row {specific_row} exists in Dataset A.\")\n",
    "    else:\n",
    "        print(f\"Row {specific_row} does not exist in Dataset A.\")\n",
    "else:\n",
    "    print(f\"Row {specific_row} does not exist in Dataset A.\")\n"
   ]
  },
  {
   "cell_type": "code",
   "execution_count": 39,
   "id": "bcfe2685-a58a-405c-90fc-81d1c3d6d53e",
   "metadata": {},
   "outputs": [
    {
     "data": {
      "text/html": [
       "<div>\n",
       "<style scoped>\n",
       "    .dataframe tbody tr th:only-of-type {\n",
       "        vertical-align: middle;\n",
       "    }\n",
       "\n",
       "    .dataframe tbody tr th {\n",
       "        vertical-align: top;\n",
       "    }\n",
       "\n",
       "    .dataframe thead th {\n",
       "        text-align: right;\n",
       "    }\n",
       "</style>\n",
       "<table border=\"1\" class=\"dataframe\">\n",
       "  <thead>\n",
       "    <tr style=\"text-align: right;\">\n",
       "      <th></th>\n",
       "      <th>0</th>\n",
       "      <th>1</th>\n",
       "    </tr>\n",
       "  </thead>\n",
       "  <tbody>\n",
       "    <tr>\n",
       "      <th>0</th>\n",
       "      <td>Alice</td>\n",
       "      <td>25</td>\n",
       "    </tr>\n",
       "    <tr>\n",
       "      <th>1</th>\n",
       "      <td>Bob</td>\n",
       "      <td>30</td>\n",
       "    </tr>\n",
       "    <tr>\n",
       "      <th>2</th>\n",
       "      <td>Charlie</td>\n",
       "      <td>35</td>\n",
       "    </tr>\n",
       "  </tbody>\n",
       "</table>\n",
       "</div>"
      ],
      "text/plain": [
       "         0   1\n",
       "0    Alice  25\n",
       "1      Bob  30\n",
       "2  Charlie  35"
      ]
     },
     "execution_count": 39,
     "metadata": {},
     "output_type": "execute_result"
    }
   ],
   "source": [
    "pd.DataFrame(dataset_a)"
   ]
  },
  {
   "cell_type": "code",
   "execution_count": 40,
   "id": "c0ff9598-d107-4f5a-8d18-916518226ce7",
   "metadata": {},
   "outputs": [
    {
     "data": {
      "text/html": [
       "<div>\n",
       "<style scoped>\n",
       "    .dataframe tbody tr th:only-of-type {\n",
       "        vertical-align: middle;\n",
       "    }\n",
       "\n",
       "    .dataframe tbody tr th {\n",
       "        vertical-align: top;\n",
       "    }\n",
       "\n",
       "    .dataframe thead th {\n",
       "        text-align: right;\n",
       "    }\n",
       "</style>\n",
       "<table border=\"1\" class=\"dataframe\">\n",
       "  <thead>\n",
       "    <tr style=\"text-align: right;\">\n",
       "      <th></th>\n",
       "      <th>0</th>\n",
       "      <th>1</th>\n",
       "    </tr>\n",
       "  </thead>\n",
       "  <tbody>\n",
       "    <tr>\n",
       "      <th>0</th>\n",
       "      <td>Alice</td>\n",
       "      <td>25</td>\n",
       "    </tr>\n",
       "    <tr>\n",
       "      <th>1</th>\n",
       "      <td>Bob</td>\n",
       "      <td>30</td>\n",
       "    </tr>\n",
       "    <tr>\n",
       "      <th>2</th>\n",
       "      <td>Charlie</td>\n",
       "      <td>40</td>\n",
       "    </tr>\n",
       "  </tbody>\n",
       "</table>\n",
       "</div>"
      ],
      "text/plain": [
       "         0   1\n",
       "0    Alice  25\n",
       "1      Bob  30\n",
       "2  Charlie  40"
      ]
     },
     "execution_count": 40,
     "metadata": {},
     "output_type": "execute_result"
    }
   ],
   "source": [
    "pd.DataFrame(dataset_b)"
   ]
  },
  {
   "cell_type": "code",
   "execution_count": null,
   "id": "da25fa52-0912-40d8-bf49-1e77d130b77f",
   "metadata": {},
   "outputs": [],
   "source": []
  }
 ],
 "metadata": {
  "kernelspec": {
   "display_name": "Python 3 (ipykernel)",
   "language": "python",
   "name": "python3"
  },
  "language_info": {
   "codemirror_mode": {
    "name": "ipython",
    "version": 3
   },
   "file_extension": ".py",
   "mimetype": "text/x-python",
   "name": "python",
   "nbconvert_exporter": "python",
   "pygments_lexer": "ipython3",
   "version": "3.10.6"
  }
 },
 "nbformat": 4,
 "nbformat_minor": 5
}
